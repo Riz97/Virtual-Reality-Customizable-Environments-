{
 "cells": [
  {
   "cell_type": "code",
   "execution_count": null,
   "id": "be574379-3185-47ca-9b26-23a87364339b",
   "metadata": {},
   "outputs": [
    {
     "name": "stdout",
     "output_type": "stream",
     "text": [
      "Coordinate del pixel: (285, 228)\n",
      "Coordinate del pixel: (885, 578)\n",
      "Coordinate del pixel: (809, 723)\n",
      "Coordinate del pixel: (842, 443)\n",
      "Coordinate del pixel: (837, 412)\n",
      "Coordinate del pixel: (780, 373)\n",
      "Coordinate del pixel: (815, 205)\n",
      "Coordinate del pixel: (824, 72)\n",
      "Coordinate del pixel: (860, 735)\n",
      "Coordinate del pixel: (860, 653)\n",
      "Coordinate del pixel: (868, 596)\n",
      "Coordinate del pixel: (875, 553)\n"
     ]
    }
   ],
   "source": [
    "import cv2\n",
    "import numpy as np\n",
    "from screeninfo import get_monitors\n",
    "\n",
    "# Funzione di callback per il mouse\n",
    "def on_mouse(event, x, y, flags, param):\n",
    "    if event == cv2.EVENT_LBUTTONDOWN:\n",
    "        print(f\"Coordinate del pixel: ({x}, {y})\")\n",
    "\n",
    "# Ottieni la risoluzione dello schermo\n",
    "monitor = get_monitors()[0]  # Usa il primo monitor (puoi gestire più monitor se necessario)\n",
    "screen_width = monitor.width\n",
    "screen_height = monitor.height\n",
    "\n",
    "# Apri la webcam (0 per la prima webcam)\n",
    "cap = cv2.VideoCapture(0)\n",
    "\n",
    "# Imposta la callback per gli eventi del mouse\n",
    "cv2.namedWindow('frame', cv2.WINDOW_NORMAL)  # Imposta la finestra in modalità non a schermo intero\n",
    "cv2.setMouseCallback('frame', on_mouse)\n",
    "\n",
    "# Imposta la dimensione della finestra come dimensione dello schermo\n",
    "cv2.resizeWindow('frame', screen_width, screen_height)\n",
    "\n",
    "while(True):\n",
    "    # Leggi un frame\n",
    "    ret, frame = cap.read()\n",
    "\n",
    "    # Ridimensiona il frame per adattarlo allo schermo, se necessario\n",
    "    if frame.shape[1] != screen_width or frame.shape[0] != screen_height:\n",
    "        frame = cv2.resize(frame, (screen_width, screen_height))\n",
    "\n",
    "    # Mostra il frame\n",
    "    cv2.imshow('frame', frame)\n",
    "\n",
    "    # Esci premendo 'q'\n",
    "    if cv2.waitKey(1) & 0xFF == ord('q'):\n",
    "        break\n",
    "\n",
    "# Rilascia le risorse\n",
    "cap.release()\n",
    "cv2.destroyAllWindows()"
   ]
  },
  {
   "cell_type": "code",
   "execution_count": 5,
   "id": "5297559c-4976-4157-90bd-db93428dbb81",
   "metadata": {},
   "outputs": [
    {
     "name": "stdout",
     "output_type": "stream",
     "text": [
      "Collecting screeninfo\n",
      "  Downloading screeninfo-0.8.1-py3-none-any.whl.metadata (2.9 kB)\n",
      "Downloading screeninfo-0.8.1-py3-none-any.whl (12 kB)\n",
      "Installing collected packages: screeninfo\n",
      "Successfully installed screeninfo-0.8.1\n",
      "Note: you may need to restart the kernel to use updated packages.\n"
     ]
    }
   ],
   "source": [
    "pip install screeninfo"
   ]
  }
 ],
 "metadata": {
  "kernelspec": {
   "display_name": "Python 3 (ipykernel)",
   "language": "python",
   "name": "python3"
  },
  "language_info": {
   "codemirror_mode": {
    "name": "ipython",
    "version": 3
   },
   "file_extension": ".py",
   "mimetype": "text/x-python",
   "name": "python",
   "nbconvert_exporter": "python",
   "pygments_lexer": "ipython3",
   "version": "3.12.4"
  }
 },
 "nbformat": 4,
 "nbformat_minor": 5
}
