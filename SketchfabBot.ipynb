{
 "cells": [
  {
   "cell_type": "code",
   "execution_count": 32,
   "id": "a2a2ea17-3a06-44ea-9bcb-150e13ac43b0",
   "metadata": {},
   "outputs": [],
   "source": [
    "import warnings\n",
    "warnings.filterwarnings('ignore')"
   ]
  },
  {
   "cell_type": "code",
   "execution_count": 18,
   "id": "f87750f1-dfa7-4572-91ad-c9932114fa92",
   "metadata": {},
   "outputs": [],
   "source": [
    "import pyautogui\n",
    "import time\n",
    "import subprocess\n",
    "\n",
    "# Funzione per aprire Google Chrome\n",
    "def open_chrome():\n",
    "    subprocess.Popen([\"C:\\\\Program Files\\\\Google\\\\Chrome\\\\Application\\\\chrome.exe\"])\n",
    "    time.sleep(3)  # Aspetta che l'applicazione si apra\n",
    "\n",
    "# Funzione per scrivere del testo\n",
    "def write_text(text):\n",
    "    pyautogui.write(text, interval=0.1)  # Scrive il testo con un intervallo di 0.1 secondi tra i tasti\n",
    "\n",
    "# Funzione principale\n",
    "def main():\n",
    "    open_chrome()  # Apre Google Chrome\n",
    "    write_text(\"https://sketchfab.com/search?type=models\")  # Scrive l'URL di Sketchfab\n",
    "    pyautogui.press(\"enter\")  # Premi \"Enter\" per caricare la pagina\n",
    "    time.sleep(1)  # Attendi che la pagina si carichi\n",
    "\n",
    "    # Muove il cursore per cliccare sulla barra di ricerca (regola la posizione come necessario)\n",
    "    pyautogui.click(400, 200)  # Puoi modificare queste coordinate se necessario\n",
    "  # Aspetta un momento per essere sicuro che il cursore sia nella barra di ricerca\n",
    "\n",
    "    write_text(\"chair\")  # Scrive \"chair\" nella barra di ricerca\n",
    "    pyautogui.press(\"enter\")  # Premi \"Enter\" per avviare la ricerca\n",
    "    \n",
    "    pyautogui.click(1050, 650)  # Queste sono coordinate di esempio, sostituiscile con quelle reali\n",
    "    time.sleep(2)  # Pausa per assicurarsi che il clic sia stato registrato\n",
    "if __name__ == \"__main__\":\n",
    "    main()"
   ]
  },
  {
   "cell_type": "code",
   "execution_count": null,
   "id": "ed7ed0fd-a261-4055-abb4-e6f8a768575a",
   "metadata": {},
   "outputs": [],
   "source": []
  },
  {
   "cell_type": "code",
   "execution_count": null,
   "id": "c5c5e955-d572-4d95-a8af-3d829e25a4a9",
   "metadata": {},
   "outputs": [],
   "source": []
  },
  {
   "cell_type": "code",
   "execution_count": null,
   "id": "6d8886d3-f968-43e2-80a4-1c78a959de38",
   "metadata": {},
   "outputs": [],
   "source": []
  }
 ],
 "metadata": {
  "kernelspec": {
   "display_name": "Python 3 (ipykernel)",
   "language": "python",
   "name": "python3"
  },
  "language_info": {
   "codemirror_mode": {
    "name": "ipython",
    "version": 3
   },
   "file_extension": ".py",
   "mimetype": "text/x-python",
   "name": "python",
   "nbconvert_exporter": "python",
   "pygments_lexer": "ipython3",
   "version": "3.12.4"
  }
 },
 "nbformat": 4,
 "nbformat_minor": 5
}
