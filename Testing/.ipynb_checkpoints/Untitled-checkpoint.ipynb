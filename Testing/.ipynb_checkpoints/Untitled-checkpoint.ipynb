{
 "cells": [
  {
   "cell_type": "code",
   "execution_count": 1,
   "id": "fece1973-81c5-40be-b2e0-a687f09665c3",
   "metadata": {},
   "outputs": [
    {
     "name": "stdout",
     "output_type": "stream",
     "text": [
      "Errore: 405 \n"
     ]
    }
   ],
   "source": [
    "import requests\n",
    "\n",
    "# Sostituisci con il tuo client ID e client secret\n",
    "client_id = \"YOUR_CLIENT_ID\"\n",
    "client_secret = \"XUnZY9S8XJNI0bGx3J2VtHjRY6qpkesAaT5k9CqYAAyv6k6OOxs0Rb6pSM1POqy8XxbrlHTvfCwdQ0GzfjzUD4Y9NM7AIQjCRXKprUHb3Iv0k1hx1xQT3CPSu2MbSbGr\n",
    "\"\n",
    "\n",
    "# Endpoint di Sketchfab per ottenere il token\n",
    "url = \"https://sketchfab.com/oauth2/token\"\n",
    "\n",
    "# Parametri per la richiesta POST\n",
    "data = {\n",
    "    \"grant_type\": \"client_credentials\",\n",
    "    \"client_id\": client_id,\n",
    "    \"client_secret\": client_secret\n",
    "}\n",
    "\n",
    "# Esegui la richiesta\n",
    "response = requests.post(url, data=data)\n",
    "\n",
    "if response.status_code == 200:\n",
    "    # Stampa l'access token\n",
    "    token_data = response.json()\n",
    "    print(\"Access Token:\", token_data[\"access_token\"])\n",
    "else:\n",
    "    # Gestisci errori\n",
    "    print(\"Errore:\", response.status_code, response.text)"
   ]
  },
  {
   "cell_type": "code",
   "execution_count": null,
   "id": "84c958f9-d61b-454e-9d04-f4e9e2b15eb4",
   "metadata": {},
   "outputs": [],
   "source": []
  }
 ],
 "metadata": {
  "kernelspec": {
   "display_name": "Python 3 (ipykernel)",
   "language": "python",
   "name": "python3"
  },
  "language_info": {
   "codemirror_mode": {
    "name": "ipython",
    "version": 3
   },
   "file_extension": ".py",
   "mimetype": "text/x-python",
   "name": "python",
   "nbconvert_exporter": "python",
   "pygments_lexer": "ipython3",
   "version": "3.12.4"
  }
 },
 "nbformat": 4,
 "nbformat_minor": 5
}
