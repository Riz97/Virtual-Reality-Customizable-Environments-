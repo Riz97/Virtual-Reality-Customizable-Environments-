{
 "cells": [
  {
   "cell_type": "code",
   "execution_count": 5,
   "id": "41bb4fe7-d2e1-4bfd-bf4b-bb8076e7bd99",
   "metadata": {},
   "outputs": [],
   "source": [
    "import numpy as np"
   ]
  },
  {
   "cell_type": "code",
   "execution_count": 3,
   "id": "fdfe4229-21a4-46b7-aab1-65e6b0838458",
   "metadata": {},
   "outputs": [],
   "source": [
    "N5Gemini = [17.8449,16.6003,16.8548,16.6437,17.4065,16.7590,19.3595,16.8665,17.9282,17.2468,18.0784,17.6370]"
   ]
  },
  {
   "cell_type": "code",
   "execution_count": 5,
   "id": "d78ee70a-d425-41c1-b1dc-9f97137cc5fa",
   "metadata": {},
   "outputs": [],
   "source": [
    "N15Gemini = [28.7394,31.4177,24.4474,25.5112,31.1440,25.0662,30.8300,25.1164,30.9899,29.4074,19.8943,26.1586]"
   ]
  },
  {
   "cell_type": "code",
   "execution_count": 7,
   "id": "070c7cd5-10a2-4c56-831f-f5634cd2facb",
   "metadata": {},
   "outputs": [],
   "source": [
    "N30Gemini = [35.6068,26.8071,30.7802,34.6646,29.1467,33.9053,33.11408,14.8712,35.5917,35.5227,31.8491,17.4927,17.8104]"
   ]
  },
  {
   "cell_type": "code",
   "execution_count": 9,
   "id": "d222009d-7cdb-4c35-9299-4ac143541bcd",
   "metadata": {},
   "outputs": [],
   "source": [
    "N5Gemini15 = [20.7840,20.0530,20.1701,20.2726,20.2125,20.1172,20.0249,20.1675,20.0646,20.2126,20.0222,20.2256]"
   ]
  },
  {
   "cell_type": "code",
   "execution_count": 25,
   "id": "52172f40-6c94-4299-b620-e9becfa13a01",
   "metadata": {},
   "outputs": [],
   "source": [
    "N15Gemini15 = [27.3484,25.8026,26.0313,24.3554,34.2970,32.0232,28.8467]"
   ]
  },
  {
   "cell_type": "code",
   "execution_count": 18,
   "id": "4034617f-cb8f-4989-a64d-606a34422053",
   "metadata": {},
   "outputs": [],
   "source": [
    "N30Gemini15 = [37.1822,36.9687,36.8150,37.5562,32.8976,37.3795,34.7810,37.1765,35.5824,29.5045,37.7376,37.7082]"
   ]
  },
  {
   "cell_type": "code",
   "execution_count": 3,
   "id": "41cd4217-7fa5-46f4-a96c-0fe212a8308e",
   "metadata": {},
   "outputs": [],
   "source": [
    "N5llama31 = [17.9028,15.7839,19.3964,18.6910,21.4937,20.3969,14.9209,20.1396,19.8540,16.2852,11.9693]"
   ]
  },
  {
   "cell_type": "code",
   "execution_count": 7,
   "id": "031889bf-576b-4550-985a-67661e7ee706",
   "metadata": {},
   "outputs": [],
   "source": [
    "N15llama31 = [84.3478,42.6028,73.5038,95.06512,34.8593]"
   ]
  },
  {
   "cell_type": "code",
   "execution_count": 7,
   "id": "5582da13-12fe-46f0-a21b-1f088f944496",
   "metadata": {},
   "outputs": [],
   "source": [
    "N5codex = [6.2547,5.2457,5.4835,4.8604,5.1619,6.1471,6.7555,6.3327,5.0809,6.7431,5.8163,8.2347,6.2365]"
   ]
  },
  {
   "cell_type": "code",
   "execution_count": 2,
   "id": "81f8e3a8-a500-45cb-8083-b7508cb0d923",
   "metadata": {},
   "outputs": [],
   "source": [
    "N15codex = [11.8600,11.0644,8.9896,9.3605,7.6753,7.1609,9.8010,8.1697,7.5437,8.2553,8.3999,9.0479]"
   ]
  },
  {
   "cell_type": "code",
   "execution_count": 10,
   "id": "0545e709-1e59-45ae-8525-385c7d803ca6",
   "metadata": {},
   "outputs": [],
   "source": [
    "N30codex = [15.8159,20.1197,21.5951,19.3828,21.8494,18.0530,18.4638,19.7290,18.4951,15.8207,15.0577]"
   ]
  },
  {
   "cell_type": "code",
   "execution_count": 5,
   "id": "5736d6ef-f80f-46e7-bdf1-51c8c8144e7a",
   "metadata": {},
   "outputs": [],
   "source": [
    "N5qwen = [19.7508,17.7610,9.5711,15.9900,21.6705,19.6207,13.2466,18.7306,18.3421,19.8461,8.8833,19.9365,15.8749,19.6195,21.2041]"
   ]
  },
  {
   "cell_type": "code",
   "execution_count": 11,
   "id": "4ef70c5b-fef3-4f81-87b4-28025ebe8b0f",
   "metadata": {},
   "outputs": [],
   "source": [
    "N15qwen = [25.6779,30.7821,30.9496,28.6473,28.2264,24.0472,28.0409,26.5355,22.9884,23.1179,24.5917,25.5661]"
   ]
  },
  {
   "cell_type": "code",
   "execution_count": 6,
   "id": "b29093b3-8f74-44a4-b6bc-bc7af005e46f",
   "metadata": {},
   "outputs": [],
   "source": [
    "N30qwen = [38.7837,36.9853,29.6744,36.9267,41.9960,31.2330,28.2252,29.6779,27.6242,33.8545,26.6616,28.6481,31.3413]"
   ]
  },
  {
   "cell_type": "code",
   "execution_count": 2,
   "id": "8edfb592-5147-4765-8164-97018ced76b3",
   "metadata": {},
   "outputs": [],
   "source": [
    "N5geex = [20.8266,19.6209,22.1872,22.5992,24.1827,18.6770,19.9311,22.3248,18.0612,15.0896,22.1627,22.5415]"
   ]
  },
  {
   "cell_type": "code",
   "execution_count": 4,
   "id": "e2d3e033-e50b-4555-9e65-3b7b6cdc01cb",
   "metadata": {},
   "outputs": [],
   "source": [
    "N15geex = [25.4807,31.3880,29.2372,28.2672,25.4267,26.0682,38.2129,36.5342,25.9248,35.2033,24.5278,43.1864]"
   ]
  },
  {
   "cell_type": "code",
   "execution_count": 8,
   "id": "41f5b3a0-ad58-4db4-9415-b9b631a58017",
   "metadata": {},
   "outputs": [],
   "source": [
    "N30geex = [26.1425,39.7568,18.1528,38.3710,38.4358,43.8059]"
   ]
  },
  {
   "cell_type": "code",
   "execution_count": 15,
   "id": "2f955892-0d90-45f2-a4eb-385a26deea4f",
   "metadata": {},
   "outputs": [],
   "source": [
    "N5codellama = [30.4898,21.1233,24.9077,18.9730,33.1054,32.9059,23.7162,21.3498,32.6634,35.3292,41.5794,24.9425]"
   ]
  },
  {
   "cell_type": "code",
   "execution_count": 22,
   "id": "348168c5-e8d2-4152-be94-3f6ac349adb3",
   "metadata": {},
   "outputs": [],
   "source": [
    "N15codellama = [38.6895,46.6048,28.0632,26.0083,29.9427,26.1779] "
   ]
  },
  {
   "cell_type": "code",
   "execution_count": null,
   "id": "ab97f502-f9d3-41f0-9359-9f5ff9a6d057",
   "metadata": {},
   "outputs": [],
   "source": [
    "N30codellama"
   ]
  },
  {
   "cell_type": "code",
   "execution_count": 24,
   "id": "54d6deaa-ed27-4f92-8199-172d964a557e",
   "metadata": {},
   "outputs": [
    {
     "data": {
      "text/plain": [
       "32.581066666666665"
      ]
     },
     "execution_count": 24,
     "metadata": {},
     "output_type": "execute_result"
    }
   ],
   "source": [
    "np.average(N15codellama)"
   ]
  },
  {
   "cell_type": "code",
   "execution_count": 26,
   "id": "e56488fc-f8a9-45b9-9f17-18047a09ac60",
   "metadata": {},
   "outputs": [
    {
     "data": {
      "text/plain": [
       "7.58893885086856"
      ]
     },
     "execution_count": 26,
     "metadata": {},
     "output_type": "execute_result"
    }
   ],
   "source": [
    "np.std(N15codellama)"
   ]
  },
  {
   "cell_type": "code",
   "execution_count": null,
   "id": "850654dd-6d98-49c2-852f-e4182e6ac442",
   "metadata": {},
   "outputs": [],
   "source": []
  }
 ],
 "metadata": {
  "kernelspec": {
   "display_name": "Python 3 (ipykernel)",
   "language": "python",
   "name": "python3"
  },
  "language_info": {
   "codemirror_mode": {
    "name": "ipython",
    "version": 3
   },
   "file_extension": ".py",
   "mimetype": "text/x-python",
   "name": "python",
   "nbconvert_exporter": "python",
   "pygments_lexer": "ipython3",
   "version": "3.12.4"
  }
 },
 "nbformat": 4,
 "nbformat_minor": 5
}
