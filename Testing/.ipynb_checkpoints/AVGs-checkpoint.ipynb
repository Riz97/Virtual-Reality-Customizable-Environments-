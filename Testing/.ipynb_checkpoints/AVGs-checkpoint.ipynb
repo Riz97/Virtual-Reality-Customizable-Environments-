{
 "cells": [
  {
   "cell_type": "code",
   "execution_count": 15,
   "id": "41bb4fe7-d2e1-4bfd-bf4b-bb8076e7bd99",
   "metadata": {},
   "outputs": [],
   "source": [
    "import numpy as np"
   ]
  },
  {
   "cell_type": "code",
   "execution_count": 16,
   "id": "8a24e985-5865-4662-855b-0d61a999ef99",
   "metadata": {},
   "outputs": [],
   "source": [
    "N5gpt4 = [28.39343,32.74304,20.40271,27.04309,21.08862,26.3927,21.46307,22.01634,29.686,22.02545,20.80283,27.45453,19.13505]"
   ]
  },
  {
   "cell_type": "code",
   "execution_count": 17,
   "id": "166b4dbc-31d1-4653-ba19-84ec655dcd37",
   "metadata": {},
   "outputs": [],
   "source": [
    "N5gpt = [10.57162,10.58838,8.424873,7.151825,9.317963,8.609009,9.762939,7.955933,6.280884,8.109863,10.56543,8.892334,7.86377,9.942871]"
   ]
  },
  {
   "cell_type": "code",
   "execution_count": 18,
   "id": "e8f9a254-51fc-471b-9243-8bc1117a9dd1",
   "metadata": {},
   "outputs": [],
   "source": [
    "N516k = [8.989831,11.0875,8.97406,4.995865,7.784007,10.77837,7.390797,9.064651,7.661957,7.073959,7.698029,8.925659,9.449493]"
   ]
  },
  {
   "cell_type": "code",
   "execution_count": 19,
   "id": "275e5681-a5f6-4b83-94fa-8f8bec66e461",
   "metadata": {},
   "outputs": [],
   "source": [
    "N15gpt4 = [41.2981,46.10153,48.7373,47.7312,17.95923,51.81628,53.07153,38.67896,51.07959,50.84277,42.89185,34.19482]"
   ]
  },
  {
   "cell_type": "code",
   "execution_count": 20,
   "id": "627a98ff-9f5c-4ca7-8d7b-863fb35bc016",
   "metadata": {},
   "outputs": [],
   "source": [
    "N15gpt = [17.56373,15.29877,12.631,18.70743,13.83102,14.431,12.76036,12.11639,9.506577,11.02193,15.9218,14.37149,14.10547,13.16754]"
   ]
  },
  {
   "cell_type": "code",
   "execution_count": 21,
   "id": "410e94cf-a99f-44d3-9aaf-e66de729225b",
   "metadata": {},
   "outputs": [],
   "source": [
    "N1516k = [16.63561,12.85245,13.74313,18.55078,18.97058,11.69174,18.80044,15.46502,5.306591,17.55329,15.94391,15.191,19.44131]"
   ]
  },
  {
   "cell_type": "code",
   "execution_count": 22,
   "id": "75a5702b-9da6-48d0-9074-d41d54c6570b",
   "metadata": {},
   "outputs": [],
   "source": [
    "N30gpt4 = [77.27722,62.89282,81.26299,92.09344,77.10645,105.3564,63.91379,72.86386,76.98169,62.0999,71.643636,76.60999]"
   ]
  },
  {
   "cell_type": "code",
   "execution_count": 23,
   "id": "133807ef-5fa4-45ef-b3e6-036358182c69",
   "metadata": {},
   "outputs": [],
   "source": [
    "N30gpt = [17.88466,15.49051,10.04871,20.33156,21.439,16.94269,17.1427,17.5658,18.74048,19.58374,16.85938]"
   ]
  },
  {
   "cell_type": "code",
   "execution_count": 24,
   "id": "50139e7b-c7f3-45f5-8543-39e91668c95a",
   "metadata": {},
   "outputs": [],
   "source": [
    "N3016k = [20.42134,18.61481,32.54852,13.95685,36.43052,15.04413,17.52197,19.80432,24.90088,15.89014,15.65808,18.60535,31.43994]"
   ]
  },
  {
   "cell_type": "code",
   "execution_count": 30,
   "id": "54d6deaa-ed27-4f92-8199-172d964a557e",
   "metadata": {},
   "outputs": [
    {
     "data": {
      "text/plain": [
       "21.602834615384612"
      ]
     },
     "execution_count": 30,
     "metadata": {},
     "output_type": "execute_result"
    }
   ],
   "source": [
    "np.average(N3016k)"
   ]
  },
  {
   "cell_type": "code",
   "execution_count": 39,
   "id": "e56488fc-f8a9-45b9-9f17-18047a09ac60",
   "metadata": {},
   "outputs": [
    {
     "data": {
      "text/plain": [
       "7.103433339785679"
      ]
     },
     "execution_count": 39,
     "metadata": {},
     "output_type": "execute_result"
    }
   ],
   "source": [
    "np.std(N3016k)"
   ]
  }
 ],
 "metadata": {
  "kernelspec": {
   "display_name": "Python 3",
   "language": "python",
   "name": "python3"
  },
  "language_info": {
   "codemirror_mode": {
    "name": "ipython",
    "version": 3
   },
   "file_extension": ".py",
   "mimetype": "text/x-python",
   "name": "python",
   "nbconvert_exporter": "python",
   "pygments_lexer": "ipython3",
   "version": "3.8.8"
  }
 },
 "nbformat": 4,
 "nbformat_minor": 5
}
