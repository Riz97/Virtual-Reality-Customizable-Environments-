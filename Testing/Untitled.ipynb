{
 "cells": [
  {
   "cell_type": "code",
   "execution_count": 55,
   "id": "748ef72b-bfe5-4f1e-953d-4ac8d08fce34",
   "metadata": {},
   "outputs": [
    {
     "data": {
      "text/plain": [
       "<Response [401]>"
      ]
     },
     "execution_count": 55,
     "metadata": {},
     "output_type": "execute_result"
    }
   ],
   "source": [
    "import requests\n",
    "\n",
    "CLIENT_ID = \"tqz7GtM7zko6BG3uwje6cxuISZZqCSzP5OCEXe4h\"\n",
    "CLIENT_SECRET = \"XUnZY9S8XJNI0bGx3J2VtHjRY6qpkesAaT5k9CqYAAyv6k6OOxs0Rb6pSM1POqy8XxbrlHTvfCwdQ0GzfjzUD4Y9NM7AIQjCRXKprUHb3Iv0k1hx1xQT3CPSu2MbSbGr\"\n",
    "\n",
    "REDIRECT_URI = 'http://localhost.com'\n",
    "AUTHORIZE_URL = \"https://sketchfab.com/oauth2/authorize/\"\n",
    "ACCESS_TOKEN_URL = \"https://sketchfab.com/oauth2/token/\"\n",
    "\n",
    "# 1. Ask for an authorization code\n",
    "requests.get('{}?response_type=code&client_id={}&redirect_uri={}'.format(AUTHORIZE_URL, CLIENT_ID, REDIRECT_URI))\n",
    "\n",
    "# 2. The user logs in, accepts your client authentication request\n",
    "\n",
    "# 3. Sketchfab redirects to your provided `redirect_uri` with the authorization code in the URL\n",
    "# Ex : https://website.com/oauth2_redirect?code=123456789\n",
    "\n",
    "# 4. Grab that code and exchange it for an `access_token`\n",
    "requests.post(\n",
    "    ACCESS_TOKEN_URL,\n",
    "    data={\n",
    "        'grant_type': 'authorization_code',\n",
    "        'code': '123456789',\n",
    "        'client_id': CLIENT_ID,\n",
    "        'client_secret': CLIENT_SECRET,\n",
    "        'redirect_uri': REDIRECT_URI\n",
    "    }\n",
    ")\n",
    "\n",
    "# The response body of this request contains the `access_token` necessary to authenticate your requests\n",
    "# Ex : {\"access_token\": \"1234\", \"token_type\": \"Bearer\", \"expires_in\": 36000, \"refresh_token\": \"5678\", \"scope\": \"read write\"}\n",
    "# - expires_in => seconds to live for this `access_token`\n",
    "# - refresh_token => A token used to fetch a new `access_token` (See below)\n",
    "\n",
    "\n",
    "# Now you're all set, the following request shows how to use your `access_token` in your requests\n",
    "# If your access token is recognized, this will return information regarding the current user\n",
    "requests.get('https://sketchfab.com/v2/users/me', headers={'Authorization': 'Bearer YOUR_ACCESS_TOKEN'})\n",
    "\n",
    "# Extra:\n",
    "\n",
    "# Before your access token expires, you can refresh it with the `refresh_token`. If it has expired,\n",
    "# you will have to re-do the auhorization workflow\n",
    "requests.post(\n",
    "    ACCESS_TOKEN_URL,\n",
    "    data={\n",
    "        'grant_type': 'refresh_token',\n",
    "        'client_id': CLIENT_ID,\n",
    "        'client_secret': CLIENT_SECRET,\n",
    "        'refresh_token': 'YOUR_REFRESH_TOKEN'\n",
    "    }\n",
    ")"
   ]
  },
  {
   "cell_type": "code",
   "execution_count": null,
   "id": "4fb3b7b0-6554-4237-9cfa-4d6cd926bcf8",
   "metadata": {},
   "outputs": [],
   "source": []
  }
 ],
 "metadata": {
  "kernelspec": {
   "display_name": "Python 3 (ipykernel)",
   "language": "python",
   "name": "python3"
  },
  "language_info": {
   "codemirror_mode": {
    "name": "ipython",
    "version": 3
   },
   "file_extension": ".py",
   "mimetype": "text/x-python",
   "name": "python",
   "nbconvert_exporter": "python",
   "pygments_lexer": "ipython3",
   "version": "3.12.4"
  }
 },
 "nbformat": 4,
 "nbformat_minor": 5
}
