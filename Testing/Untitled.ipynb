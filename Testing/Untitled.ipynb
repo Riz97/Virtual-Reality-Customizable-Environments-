{
 "cells": [
  {
   "cell_type": "code",
   "execution_count": null,
   "id": "915cc2f5-0bb7-447d-85b1-11b48de20e5d",
   "metadata": {},
   "outputs": [],
   "source": [
    "import requests\n",
    "import json\n",
    "import os\n",
    "\n",
    "def download_model(api_key, model_id, save_path):\n",
    "  \"\"\"Scarica un modello 3D da TurboSquid.\n",
    "\n",
    "  Args:\n",
    "    api_key: La tua chiave API di TurboSquid.\n",
    "    model_id: L'ID del modello da scaricare.\n",
    "    save_path: Il percorso dove salvare il modello.\n",
    "  \"\"\"\n",
    "\n",
    "  headers = {'Authorization': f'Bearer {api_key}'}\n",
    "  url = f\"https://api.turbosquid.com/v1/models/{model_id}/download\"\n",
    "\n",
    "  response = requests.get(url, headers=headers, stream=True)\n",
    "\n",
    "  if response.status_code == 200:\n",
    "    # Crea la directory di destinazione se non esiste\n",
    "    os.makedirs(os.path.dirname(save_path), exist_ok=True)\n",
    "\n",
    "    with open(save_path, 'wb') as f:\n",
    "      for chunk in response.iter_content(1024):\n",
    "        f.write(chunk)\n",
    "    print(f\"Modello scaricato correttamente in {save_path}\")\n",
    "  else:\n",
    "    print(f\"Errore durante il download: {response.status_code}\")\n",
    "\n",
    "# Esempio d'uso\n",
    "api_key = \"YOUR_API_KEY\"  # Sostituisci con la tua chiave API\n",
    "model_id = \"1234567\"  # Sostituisci con l'ID del modello che vuoi scaricare\n",
    "save_path = \"C:/Users/utente/Downloads/miei_modelli/modello_scaricato.fbx\"  # Percorso e nome del file\n",
    "\n",
    "# Scarica il modello\n",
    "download_model(api_key, model_id, save_path)\n",
    "\n",
    "# Scarica più modelli (esempio)\n",
    "model_ids = [1234567, 8901234, 5678901]\n",
    "for id in model_ids:\n",
    "  save_path = f\"C:/Users/utente/Downloads/miei_modelli/modello_{id}.fbx\"\n",
    "  download_model(api_key, id, save_path)"
   ]
  }
 ],
 "metadata": {
  "kernelspec": {
   "display_name": "Python 3 (ipykernel)",
   "language": "python",
   "name": "python3"
  },
  "language_info": {
   "codemirror_mode": {
    "name": "ipython",
    "version": 3
   },
   "file_extension": ".py",
   "mimetype": "text/x-python",
   "name": "python",
   "nbconvert_exporter": "python",
   "pygments_lexer": "ipython3",
   "version": "3.12.4"
  }
 },
 "nbformat": 4,
 "nbformat_minor": 5
}
