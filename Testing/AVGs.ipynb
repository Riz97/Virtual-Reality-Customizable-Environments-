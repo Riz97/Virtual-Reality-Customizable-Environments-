{
 "cells": [
  {
   "cell_type": "code",
   "execution_count": 2,
   "id": "41bb4fe7-d2e1-4bfd-bf4b-bb8076e7bd99",
   "metadata": {},
   "outputs": [],
   "source": [
    "import numpy as np"
   ]
  },
  {
   "cell_type": "code",
   "execution_count": 2,
   "id": "fdfe4229-21a4-46b7-aab1-65e6b0838458",
   "metadata": {},
   "outputs": [],
   "source": [
    "N5Gemini = [17.8449,16.6003,16.8548,16.6437,17.4065,16.7590,19.3595,16.8665,17.9282,17.2468,18.0784,17.6370]"
   ]
  },
  {
   "cell_type": "code",
   "execution_count": 4,
   "id": "d78ee70a-d425-41c1-b1dc-9f97137cc5fa",
   "metadata": {},
   "outputs": [],
   "source": [
    "N15Gemini = [28.7394,31.4177,24.4474,25.5112,31.1440,25.0662,30.8300,25.1164,30.9899,29.4074,19.8943,26.1586]"
   ]
  },
  {
   "cell_type": "code",
   "execution_count": 6,
   "id": "54d6deaa-ed27-4f92-8199-172d964a557e",
   "metadata": {},
   "outputs": [
    {
     "data": {
      "text/plain": [
       "27.393541666666664"
      ]
     },
     "execution_count": 6,
     "metadata": {},
     "output_type": "execute_result"
    }
   ],
   "source": [
    "np.average(N15Gemini)"
   ]
  },
  {
   "cell_type": "code",
   "execution_count": 8,
   "id": "e56488fc-f8a9-45b9-9f17-18047a09ac60",
   "metadata": {},
   "outputs": [
    {
     "data": {
      "text/plain": [
       "3.433394189782256"
      ]
     },
     "execution_count": 8,
     "metadata": {},
     "output_type": "execute_result"
    }
   ],
   "source": [
    "np.std(N15Gemini)"
   ]
  },
  {
   "cell_type": "code",
   "execution_count": null,
   "id": "850654dd-6d98-49c2-852f-e4182e6ac442",
   "metadata": {},
   "outputs": [],
   "source": []
  }
 ],
 "metadata": {
  "kernelspec": {
   "display_name": "Python 3 (ipykernel)",
   "language": "python",
   "name": "python3"
  },
  "language_info": {
   "codemirror_mode": {
    "name": "ipython",
    "version": 3
   },
   "file_extension": ".py",
   "mimetype": "text/x-python",
   "name": "python",
   "nbconvert_exporter": "python",
   "pygments_lexer": "ipython3",
   "version": "3.12.4"
  }
 },
 "nbformat": 4,
 "nbformat_minor": 5
}
