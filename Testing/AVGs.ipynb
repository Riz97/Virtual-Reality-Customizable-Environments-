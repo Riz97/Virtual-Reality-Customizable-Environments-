{
 "cells": [
  {
   "cell_type": "code",
   "execution_count": 1,
   "id": "41bb4fe7-d2e1-4bfd-bf4b-bb8076e7bd99",
   "metadata": {},
   "outputs": [],
   "source": [
    "import numpy as np"
   ]
  },
  {
   "cell_type": "code",
   "execution_count": 3,
   "id": "fdfe4229-21a4-46b7-aab1-65e6b0838458",
   "metadata": {},
   "outputs": [],
   "source": [
    "N5Gemini = [17.8449,16.6003,16.8548,16.6437,17.4065,16.7590,19.3595,16.8665,17.9282,17.2468,18.0784,17.6370]"
   ]
  },
  {
   "cell_type": "code",
   "execution_count": 5,
   "id": "d78ee70a-d425-41c1-b1dc-9f97137cc5fa",
   "metadata": {},
   "outputs": [],
   "source": [
    "N15Gemini = [28.7394,31.4177,24.4474,25.5112,31.1440,25.0662,30.8300,25.1164,30.9899,29.4074,19.8943,26.1586]"
   ]
  },
  {
   "cell_type": "code",
   "execution_count": 7,
   "id": "070c7cd5-10a2-4c56-831f-f5634cd2facb",
   "metadata": {},
   "outputs": [],
   "source": [
    "N30Gemini = [35.6068,26.8071,30.7802,34.6646,29.1467,33.9053,33.11408,14.8712,35.5917,35.5227,31.8491,17.4927,17.8104]"
   ]
  },
  {
   "cell_type": "code",
   "execution_count": 9,
   "id": "d222009d-7cdb-4c35-9299-4ac143541bcd",
   "metadata": {},
   "outputs": [],
   "source": [
    "N5Gemini15 = [20.7840,20.0530,20.1701,20.2726,20.2125,20.1172,20.0249,20.1675,20.0646,20.2126,20.0222,20.2256]"
   ]
  },
  {
   "cell_type": "code",
   "execution_count": 25,
   "id": "52172f40-6c94-4299-b620-e9becfa13a01",
   "metadata": {},
   "outputs": [],
   "source": [
    "N15Gemini15 = [27.3484,25.8026,26.0313,24.3554,34.2970,32.0232,28.8467]"
   ]
  },
  {
   "cell_type": "code",
   "execution_count": 18,
   "id": "4034617f-cb8f-4989-a64d-606a34422053",
   "metadata": {},
   "outputs": [],
   "source": [
    "N30Gemini15 = [37.1822,36.9687,36.8150,37.5562,32.8976,37.3795,34.7810,37.1765,35.5824,29.5045,37.7376,37.7082]"
   ]
  },
  {
   "cell_type": "code",
   "execution_count": 3,
   "id": "41cd4217-7fa5-46f4-a96c-0fe212a8308e",
   "metadata": {},
   "outputs": [],
   "source": [
    "N5llama31 = [17.9028,15.7839,19.3964,18.6910,21.4937,20.3969,14.9209,20.1396,19.8540,16.2852,11.9693]"
   ]
  },
  {
   "cell_type": "code",
   "execution_count": 7,
   "id": "031889bf-576b-4550-985a-67661e7ee706",
   "metadata": {},
   "outputs": [],
   "source": [
    "N15llama31 = [84.3478,42.6028,73.5038,95.06512,34.8593]"
   ]
  },
  {
   "cell_type": "code",
   "execution_count": 8,
   "id": "54d6deaa-ed27-4f92-8199-172d964a557e",
   "metadata": {},
   "outputs": [
    {
     "data": {
      "text/plain": [
       "66.075764"
      ]
     },
     "execution_count": 8,
     "metadata": {},
     "output_type": "execute_result"
    }
   ],
   "source": [
    "np.average(N15llama31)"
   ]
  },
  {
   "cell_type": "code",
   "execution_count": 10,
   "id": "e56488fc-f8a9-45b9-9f17-18047a09ac60",
   "metadata": {},
   "outputs": [
    {
     "data": {
      "text/plain": [
       "23.472850032775824"
      ]
     },
     "execution_count": 10,
     "metadata": {},
     "output_type": "execute_result"
    }
   ],
   "source": [
    "np.std(N15llama31)"
   ]
  },
  {
   "cell_type": "code",
   "execution_count": null,
   "id": "850654dd-6d98-49c2-852f-e4182e6ac442",
   "metadata": {},
   "outputs": [],
   "source": []
  }
 ],
 "metadata": {
  "kernelspec": {
   "display_name": "Python 3",
   "language": "python",
   "name": "python3"
  },
  "language_info": {
   "codemirror_mode": {
    "name": "ipython",
    "version": 3
   },
   "file_extension": ".py",
   "mimetype": "text/x-python",
   "name": "python",
   "nbconvert_exporter": "python",
   "pygments_lexer": "ipython3",
   "version": "3.8.8"
  }
 },
 "nbformat": 4,
 "nbformat_minor": 5
}
