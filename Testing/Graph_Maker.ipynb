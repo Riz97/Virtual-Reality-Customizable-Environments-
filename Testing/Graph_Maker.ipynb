{
 "cells": [
  {
   "cell_type": "markdown",
   "id": "7ee3d35b-ce47-488d-9fd0-4e0bd9227cba",
   "metadata": {},
   "source": [
    "# Notebook for making testing graphs\n",
    "\n",
    "All the information are taken from the text file generated which is located in the Unity Project folder"
   ]
  },
  {
   "cell_type": "code",
   "execution_count": 2,
   "id": "02c47511-53c2-43aa-b3b3-1e8b75b857c4",
   "metadata": {},
   "outputs": [],
   "source": [
    "import matplotlib.pyplot as plt\n",
    "%matplotlib inline\n",
    "file = (\"New-30-modelli-codex.txt\")#File Name"
   ]
  },
  {
   "cell_type": "markdown",
   "id": "27d3c011-48ec-4697-8acd-10d2c0c9d488",
   "metadata": {},
   "source": [
    "# Graph Testing Creation"
   ]
  },
  {
   "cell_type": "code",
   "execution_count": 4,
   "id": "614e5d4a-71d6-4766-874b-ac99a2b35ec1",
   "metadata": {},
   "outputs": [],
   "source": [
    "def Graph(Time_Execution,tries,LLM,models,faulty):\n",
    "    fig = plt.figure(figsize = (25,5))\n",
    "    ax1 = fig.add_subplot(1,2,1)\n",
    "\n",
    "    aux_model = str(models)\n",
    "    plt.plot(Time_execution,color='blue', linestyle='dashed', linewidth = 3, marker='o', markerfacecolor='red', markersize=12)\n",
    "    plt.title(\"The number of models used is \" +  aux_model,loc = \"right\")\n",
    "    plt.title(\"LLM used: \"+ LLM,loc = \"left\")\n",
    "    plt.xticks([])\n",
    "    plt.ylabel(\"Seconds\")\n",
    "    plt.xlabel(\"Runs \\n The average amount of tries is \" + str(tries),fontsize = 20)\n",
    "    plt.legend([\"Script\"])\n",
    "    plt.grid()\n",
    "    plt.savefig(\"Graphs/\" + LLM + \"_\" + \"NModels_\" + aux_model + \".jpg\")\n",
    "    print(\"The average number of faulty scripts is : \", faulty)\n",
    "    \n",
    "    plt.show()"
   ]
  },
  {
   "cell_type": "markdown",
   "id": "8d33e4ed-7cf5-4758-8f01-87743d5995d1",
   "metadata": {},
   "source": [
    "## Extraction of  the seconds for the script generation"
   ]
  },
  {
   "cell_type": "code",
   "execution_count": 6,
   "id": "2fe32813-68d3-4797-b8f0-c97d3f9257d3",
   "metadata": {},
   "outputs": [],
   "source": [
    "def seconds_filter(file):\n",
    "    new = []\n",
    "    for i in range(1, len(file)):\n",
    "        if file[i-1] == \"took\":\n",
    "            new.append(file[i].replace(\",\",\".\"))\n",
    "    return new"
   ]
  },
  {
   "cell_type": "markdown",
   "id": "aea0e7a9-ae9e-426d-b5a4-47f82613d3f5",
   "metadata": {},
   "source": [
    "## Extraction of the tries  for the script generation"
   ]
  },
  {
   "cell_type": "code",
   "execution_count": 8,
   "id": "4c5dceaa-d56f-44a0-a044-2d9af635c59a",
   "metadata": {},
   "outputs": [],
   "source": [
    "def tries_filter(file):\n",
    "    new = []\n",
    "    for i in range(1, len(file)):\n",
    "        if file[i-1] == \"required\":\n",
    "            new.append(file[i])\n",
    "    return new"
   ]
  },
  {
   "cell_type": "markdown",
   "id": "dde67ccb-edf3-4266-bf55-aff566f8a834",
   "metadata": {},
   "source": [
    "## Extraction of the number of models in the scene"
   ]
  },
  {
   "cell_type": "code",
   "execution_count": 10,
   "id": "bf2bf67d-e611-4be9-867d-625a7c67ca0c",
   "metadata": {},
   "outputs": [],
   "source": [
    "def models_filter(file):\n",
    "    new = []\n",
    "    for i in range(1, len(file)):\n",
    "        if file[i-1] == \"~\":\n",
    "            new.append(file[i])\n",
    "    return new"
   ]
  },
  {
   "cell_type": "markdown",
   "id": "0268e622-7bb7-4185-b8bd-cb472b45fd53",
   "metadata": {},
   "source": [
    "## Extraction of the number of faulty scripts in the scene"
   ]
  },
  {
   "cell_type": "code",
   "execution_count": 12,
   "id": "ecfa94b2-1c39-4a45-bf30-1e99abe2c0ad",
   "metadata": {},
   "outputs": [],
   "source": [
    "def faulty_filter(file):\n",
    "    new = []\n",
    "    for i in range(1, len(file)):\n",
    "        if file[i-1] == \"£\":\n",
    "            new.append(file[i])\n",
    "    return new"
   ]
  },
  {
   "cell_type": "markdown",
   "id": "57a4d90c-8d12-4f1f-b322-6be3b9d3c8eb",
   "metadata": {},
   "source": [
    "## Extraction of the Large Language Model used for the script generation"
   ]
  },
  {
   "cell_type": "code",
   "execution_count": 14,
   "id": "33ccddaf-b113-42f8-b5f9-544125cf4f55",
   "metadata": {},
   "outputs": [],
   "source": [
    "def LLM_filter(file):\n",
    "    new = []\n",
    "    for i in range(1, len(file)):\n",
    "        if file[i-1] == \"-\":\n",
    "            new.append(file[i])\n",
    "    return new"
   ]
  },
  {
   "cell_type": "code",
   "execution_count": 15,
   "id": "81c09dbe-4b97-441a-b6dd-d78e255edf4f",
   "metadata": {},
   "outputs": [],
   "source": [
    "with open(file) as f:\n",
    "    data = f.read()\n",
    "splitfile = data.split()"
   ]
  },
  {
   "cell_type": "code",
   "execution_count": 16,
   "id": "4451be52-0b74-4d96-b83b-935b4ce34f8c",
   "metadata": {},
   "outputs": [],
   "source": [
    "A = tries_filter(splitfile)\n",
    "aux = [int(x) for x in A]\n",
    "triess = (sum(aux)/len(aux))"
   ]
  },
  {
   "cell_type": "code",
   "execution_count": 17,
   "id": "ee451ad4-af3b-4b53-85d1-e1194c568126",
   "metadata": {},
   "outputs": [],
   "source": [
    "tries =\"{:.3f}\".format(triess) "
   ]
  },
  {
   "cell_type": "code",
   "execution_count": 18,
   "id": "7164b11e-9686-4f5b-ad15-a389bc357f4b",
   "metadata": {},
   "outputs": [],
   "source": [
    "B = seconds_filter(splitfile)\n",
    "Time_execution = [float(x) for x in B]"
   ]
  },
  {
   "cell_type": "code",
   "execution_count": 19,
   "id": "bd886ff1-6218-448e-9792-62c2beacf7f1",
   "metadata": {},
   "outputs": [],
   "source": [
    "C = models_filter(splitfile)\n",
    "aux = [int(x) for x in C]\n",
    "models = int(sum(aux)/len(aux))"
   ]
  },
  {
   "cell_type": "code",
   "execution_count": 20,
   "id": "9c071dce-2bb5-40af-aa6f-2633b50a6954",
   "metadata": {},
   "outputs": [],
   "source": [
    "D = LLM_filter(splitfile)\n",
    "LLM =  D[0]"
   ]
  },
  {
   "cell_type": "code",
   "execution_count": 21,
   "id": "af8b7433-68df-4ccc-ba2b-ec3da75db1ae",
   "metadata": {},
   "outputs": [],
   "source": [
    "E = faulty_filter(splitfile)\n",
    "auxx = [int(x) for x in E]\n",
    "faulty = ((sum(auxx)+1)/(len(auxx)+1))\n",
    "faulty -= 1"
   ]
  },
  {
   "cell_type": "code",
   "execution_count": 22,
   "id": "d9f23acf-e829-4a8a-a472-daeaa484f92b",
   "metadata": {},
   "outputs": [
    {
     "name": "stdout",
     "output_type": "stream",
     "text": [
      "The average number of faulty scripts is :  0.0\n"
     ]
    },
    {
     "data": {
      "image/png": "[encoded data removed]",
      "text/plain": [
       "<Figure size 2500x500 with 1 Axes>"
      ]
     },
     "metadata": {},
     "output_type": "display_data"
    }
   ],
   "source": [
    "Graph(Time_execution,tries,LLM,models,faulty)"
   ]
  },
  {
   "cell_type": "code",
   "execution_count": null,
   "id": "fad6baac-18a3-4c64-b7e0-b93381f99f20",
   "metadata": {},
   "outputs": [],
   "source": []
  }
 ],
 "metadata": {
  "kernelspec": {
   "display_name": "Python 3 (ipykernel)",
   "language": "python",
   "name": "python3"
  },
  "language_info": {
   "codemirror_mode": {
    "name": "ipython",
    "version": 3
   },
   "file_extension": ".py",
   "mimetype": "text/x-python",
   "name": "python",
   "nbconvert_exporter": "python",
   "pygments_lexer": "ipython3",
   "version": "3.12.4"
  }
 },
 "nbformat": 4,
 "nbformat_minor": 5
}
